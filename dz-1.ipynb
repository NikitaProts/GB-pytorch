{
 "cells": [
  {
   "cell_type": "code",
   "execution_count": 12,
   "id": "903fe1fc",
   "metadata": {},
   "outputs": [],
   "source": [
    "import torch\n",
    "import numpy as np"
   ]
  },
  {
   "cell_type": "code",
   "execution_count": 51,
   "id": "fd0e21a5",
   "metadata": {},
   "outputs": [
    {
     "data": {
      "text/plain": [
       "tensor([[[0.2757, 0.7111, 0.1126, 0.2027, 0.5776],\n",
       "         [0.0723, 0.8864, 0.7252, 0.3337, 0.5291],\n",
       "         [0.1800, 0.9549, 0.5128, 0.3304, 0.6754],\n",
       "         [0.5852, 0.5719, 0.1815, 0.2059, 0.4129]],\n",
       "\n",
       "        [[0.6056, 0.8710, 0.3320, 0.6779, 0.8561],\n",
       "         [0.1127, 0.0271, 0.9538, 0.0812, 0.6995],\n",
       "         [0.7829, 0.6443, 0.9111, 0.4284, 0.3325],\n",
       "         [0.1856, 0.3009, 0.7362, 0.5905, 0.8716]],\n",
       "\n",
       "        [[0.9288, 0.0481, 0.0818, 0.1184, 0.8857],\n",
       "         [0.5721, 0.8798, 0.2894, 0.8034, 0.7535],\n",
       "         [0.9169, 0.7173, 0.9987, 0.6648, 0.8318],\n",
       "         [0.9949, 0.0548, 0.1912, 0.6370, 0.5525]]])"
      ]
     },
     "execution_count": 51,
     "metadata": {},
     "output_type": "execute_result"
    }
   ],
   "source": [
    "#1. Создайте случайный FloatTensor размера 3x4x5\n",
    "a = torch.rand(3, 4, 5)\n",
    "a"
   ]
  },
  {
   "cell_type": "code",
   "execution_count": 52,
   "id": "91c28be0",
   "metadata": {},
   "outputs": [
    {
     "data": {
      "text/plain": [
       "torch.Size([3, 4, 5])"
      ]
     },
     "execution_count": 52,
     "metadata": {},
     "output_type": "execute_result"
    }
   ],
   "source": [
    "# 2. Выведите его форму (shape)\n",
    "a.shape"
   ]
  },
  {
   "cell_type": "code",
   "execution_count": 53,
   "id": "bdfcd519",
   "metadata": {},
   "outputs": [
    {
     "data": {
      "text/plain": [
       "'torch.FloatTensor'"
      ]
     },
     "execution_count": 53,
     "metadata": {},
     "output_type": "execute_result"
    }
   ],
   "source": [
    "a.type()"
   ]
  },
  {
   "cell_type": "code",
   "execution_count": 54,
   "id": "b22b8faf",
   "metadata": {},
   "outputs": [
    {
     "data": {
      "text/plain": [
       "tensor([[0.2757, 0.7111, 0.1126, 0.2027, 0.5776, 0.0723, 0.8864, 0.7252, 0.3337,\n",
       "         0.5291],\n",
       "        [0.1800, 0.9549, 0.5128, 0.3304, 0.6754, 0.5852, 0.5719, 0.1815, 0.2059,\n",
       "         0.4129],\n",
       "        [0.6056, 0.8710, 0.3320, 0.6779, 0.8561, 0.1127, 0.0271, 0.9538, 0.0812,\n",
       "         0.6995],\n",
       "        [0.7829, 0.6443, 0.9111, 0.4284, 0.3325, 0.1856, 0.3009, 0.7362, 0.5905,\n",
       "         0.8716],\n",
       "        [0.9288, 0.0481, 0.0818, 0.1184, 0.8857, 0.5721, 0.8798, 0.2894, 0.8034,\n",
       "         0.7535],\n",
       "        [0.9169, 0.7173, 0.9987, 0.6648, 0.8318, 0.9949, 0.0548, 0.1912, 0.6370,\n",
       "         0.5525]])"
      ]
     },
     "execution_count": 54,
     "metadata": {},
     "output_type": "execute_result"
    }
   ],
   "source": [
    "# 3. Приведите его к форме 6х10\n",
    "a_reshape = a.reshape(6, 10)\n",
    "a_reshape"
   ]
  },
  {
   "cell_type": "code",
   "execution_count": 55,
   "id": "dc34c4b5",
   "metadata": {},
   "outputs": [
    {
     "data": {
      "text/plain": [
       "tensor([[1, 0, 1, 1, 0, 0, 0, 1, 0, 1]], dtype=torch.int32)"
      ]
     },
     "execution_count": 55,
     "metadata": {},
     "output_type": "execute_result"
    }
   ],
   "source": [
    "# 4. Создайте случайный IntTensor размера 10\n",
    "b = torch.IntTensor((torch.rand(size =(1, 10)) < 0.35).int())\n",
    "b"
   ]
  },
  {
   "cell_type": "code",
   "execution_count": 56,
   "id": "5f8ccfa3",
   "metadata": {},
   "outputs": [
    {
     "data": {
      "text/plain": [
       "tensor([[0.2757, 0.0000, 0.1126, 0.2027, 0.0000, 0.0000, 0.0000, 0.7252, 0.0000,\n",
       "         0.5291],\n",
       "        [0.1800, 0.0000, 0.5128, 0.3304, 0.0000, 0.0000, 0.0000, 0.1815, 0.0000,\n",
       "         0.4129],\n",
       "        [0.6056, 0.0000, 0.3320, 0.6779, 0.0000, 0.0000, 0.0000, 0.9538, 0.0000,\n",
       "         0.6995],\n",
       "        [0.7829, 0.0000, 0.9111, 0.4284, 0.0000, 0.0000, 0.0000, 0.7362, 0.0000,\n",
       "         0.8716],\n",
       "        [0.9288, 0.0000, 0.0818, 0.1184, 0.0000, 0.0000, 0.0000, 0.2894, 0.0000,\n",
       "         0.7535],\n",
       "        [0.9169, 0.0000, 0.9987, 0.6648, 0.0000, 0.0000, 0.0000, 0.1912, 0.0000,\n",
       "         0.5525]])"
      ]
     },
     "execution_count": 56,
     "metadata": {},
     "output_type": "execute_result"
    }
   ],
   "source": [
    "# 5. Умножьте созданный FloatTensor на созданный IntTensor поэлементно\n",
    "a_dot_b = torch.mul(a_reshape, b)\n",
    "a_dot_b"
   ]
  },
  {
   "cell_type": "code",
   "execution_count": 57,
   "id": "6642e058",
   "metadata": {},
   "outputs": [
    {
     "data": {
      "text/plain": [
       "torch.Size([6, 6])"
      ]
     },
     "execution_count": 57,
     "metadata": {},
     "output_type": "execute_result"
    }
   ],
   "source": [
    "# 6. Умножьте тензор матрично на себя, чтобы результат был размерности 6x6\n",
    "# Подсказка: .dot может не подойти\n",
    "AB_squared = a_dot_b @ a_dot_b.T\n",
    "AB_squared.shape"
   ]
  },
  {
   "cell_type": "code",
   "execution_count": 58,
   "id": "3b644247",
   "metadata": {},
   "outputs": [
    {
     "name": "stdout",
     "output_type": "stream",
     "text": [
      "-71.0\n"
     ]
    }
   ],
   "source": [
    "# 7. Посчитайте производную функции y = x**3 + z - 75t в точке (1, 0.5, 2)\n",
    "from torch.autograd import Variable\n",
    "\n",
    "x = Variable(torch.FloatTensor([1, 0.5, 2]), requires_grad = True)\n",
    "y = x[0]**3 + x[1] - 75*x[2]\n",
    "y.backward()\n",
    "print(x.grad.sum().numpy())"
   ]
  },
  {
   "cell_type": "code",
   "execution_count": 60,
   "id": "d435c7ff",
   "metadata": {},
   "outputs": [
    {
     "data": {
      "text/plain": [
       "tensor([[1., 1., 1., 1., 1., 1.],\n",
       "        [1., 1., 1., 1., 1., 1.],\n",
       "        [1., 1., 1., 1., 1., 1.],\n",
       "        [1., 1., 1., 1., 1., 1.],\n",
       "        [1., 1., 1., 1., 1., 1.]])"
      ]
     },
     "execution_count": 60,
     "metadata": {},
     "output_type": "execute_result"
    }
   ],
   "source": [
    "# 8. Создайте единичный тензор размера 5x6\n",
    "ones_tensor = torch.ones(5, 6)\n",
    "ones_tensor"
   ]
  },
  {
   "cell_type": "code",
   "execution_count": 62,
   "id": "9ac78179",
   "metadata": {},
   "outputs": [
    {
     "data": {
      "text/plain": [
       "numpy.ndarray"
      ]
     },
     "execution_count": 62,
     "metadata": {},
     "output_type": "execute_result"
    }
   ],
   "source": [
    "# 9. Переведите его в формат numpy\n",
    "ones_np = ones_tensor.numpy()\n",
    "type(ones_np)"
   ]
  },
  {
   "cell_type": "code",
   "execution_count": null,
   "id": "3cbc323c",
   "metadata": {},
   "outputs": [],
   "source": []
  },
  {
   "cell_type": "code",
   "execution_count": null,
   "id": "afc15e98",
   "metadata": {},
   "outputs": [],
   "source": []
  },
  {
   "cell_type": "code",
   "execution_count": null,
   "id": "7e95bea5",
   "metadata": {},
   "outputs": [],
   "source": []
  },
  {
   "cell_type": "code",
   "execution_count": null,
   "id": "2469d3dc",
   "metadata": {},
   "outputs": [],
   "source": []
  },
  {
   "cell_type": "code",
   "execution_count": null,
   "id": "1fcd223d",
   "metadata": {},
   "outputs": [],
   "source": []
  },
  {
   "cell_type": "code",
   "execution_count": null,
   "id": "08a176e4",
   "metadata": {},
   "outputs": [],
   "source": []
  },
  {
   "cell_type": "code",
   "execution_count": null,
   "id": "150243e0",
   "metadata": {},
   "outputs": [],
   "source": []
  },
  {
   "cell_type": "code",
   "execution_count": null,
   "id": "63fcbbc4",
   "metadata": {},
   "outputs": [],
   "source": []
  },
  {
   "cell_type": "code",
   "execution_count": null,
   "id": "02ce936f",
   "metadata": {},
   "outputs": [],
   "source": []
  },
  {
   "cell_type": "code",
   "execution_count": null,
   "id": "4a87c457",
   "metadata": {},
   "outputs": [],
   "source": []
  },
  {
   "cell_type": "code",
   "execution_count": null,
   "id": "7c35c659",
   "metadata": {},
   "outputs": [],
   "source": []
  }
 ],
 "metadata": {
  "kernelspec": {
   "display_name": "Python 3 (ipykernel)",
   "language": "python",
   "name": "python3"
  },
  "language_info": {
   "codemirror_mode": {
    "name": "ipython",
    "version": 3
   },
   "file_extension": ".py",
   "mimetype": "text/x-python",
   "name": "python",
   "nbconvert_exporter": "python",
   "pygments_lexer": "ipython3",
   "version": "3.9.7"
  }
 },
 "nbformat": 4,
 "nbformat_minor": 5
}
